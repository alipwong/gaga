{
 "cells": [
  {
   "cell_type": "markdown",
   "metadata": {},
   "source": [
    "# Selecting a population size\n",
    "\n",
    "The aim of this demonstration is to help you select a population size for you genetic algorithm. We will use Rosenbrock's banana function.\n",
    "\n",
    "This is defined by:\n",
    "\n",
    "$f(x,y) = (a-x)^2 + b(y - x^2)^2$\n",
    "\n",
    "For the constants $a = 1$ and $b = 100$, the minimum is at (1,1).\n",
    "\n",
    "$f(1,1) = 0$\n",
    "<p align = \"center\">\n",
    "  <img src=\"Rosenbrock_function.png\" width=\"40%\">\n",
    "</p>\n",
    "\n",
    "Image source:[wikipedia](https://en.wikipedia.org/wiki/Rosenbrock_function) "
   ]
  }
 ],
 "metadata": {
  "kernelspec": {
   "display_name": "Python 3",
   "language": "python",
   "name": "python3"
  },
  "language_info": {
   "codemirror_mode": {
    "name": "ipython",
    "version": 3
   },
   "file_extension": ".py",
   "mimetype": "text/x-python",
   "name": "python",
   "nbconvert_exporter": "python",
   "pygments_lexer": "ipython3",
   "version": "3.7.1"
  }
 },
 "nbformat": 4,
 "nbformat_minor": 2
}
